{
 "cells": [
  {
   "cell_type": "markdown",
   "metadata": {},
   "source": [
    "# Homework 4"
   ]
  },
  {
   "cell_type": "code",
   "execution_count": 2,
   "metadata": {},
   "outputs": [
    {
     "name": "stderr",
     "output_type": "stream",
     "text": [
      "┌ Info: Precompiling JuMP [4076af6c-e467-56ae-b986-b466b2749572]\n",
      "└ @ Base loading.jl:1186\n",
      "┌ Info: Precompiling GLPK [60bf3e95-4087-53dc-ae20-288a0d20c6a6]\n",
      "└ @ Base loading.jl:1186\n"
     ]
    }
   ],
   "source": [
    "using JuMP, GLPK"
   ]
  },
  {
   "cell_type": "code",
   "execution_count": 10,
   "metadata": {},
   "outputs": [
    {
     "data": {
      "text/plain": [
       "problem_one (generic function with 1 method)"
      ]
     },
     "execution_count": 10,
     "metadata": {},
     "output_type": "execute_result"
    }
   ],
   "source": [
    "function problem_one()\n",
    "    m = Model(with_optimizer(GLPK.Optimizer))\n",
    "    @variable(m, 0 <= x1 <= 1)\n",
    "    @variable(m, 0 <= x2 <= 1)\n",
    "    \n",
    "    @constraint(m, 5000*x1+4000*x2 <= 6000)\n",
    "    @constraint(m, 400*x1+500*x2 <= 600)\n",
    "    \n",
    "    @objective(m, Max, 4500*x1+4500*x2)\n",
    "    JuMP.optimize!(m)\n",
    "    println(\"x1: $(JuMP.value(x1))\")\n",
    "    println(\"x2: $(JuMP.value(x2))\")\n",
    "end"
   ]
  },
  {
   "cell_type": "code",
   "execution_count": 11,
   "metadata": {},
   "outputs": [
    {
     "name": "stdout",
     "output_type": "stream",
     "text": [
      "x1: 0.6666666666666666\n",
      "x2: 0.6666666666666667\n"
     ]
    }
   ],
   "source": [
    "problem_one()"
   ]
  },
  {
   "cell_type": "code",
   "execution_count": null,
   "metadata": {},
   "outputs": [],
   "source": [
    "function p2()\n",
    "    m = Model(with_optimizer(GLPK.Optimizer))\n",
    "    @variable(m)"
   ]
  }
 ],
 "metadata": {
  "kernelspec": {
   "display_name": "Julia 1.0.3",
   "language": "julia",
   "name": "julia-1.0"
  },
  "language_info": {
   "file_extension": ".jl",
   "mimetype": "application/julia",
   "name": "julia",
   "version": "1.1.1"
  }
 },
 "nbformat": 4,
 "nbformat_minor": 2
}

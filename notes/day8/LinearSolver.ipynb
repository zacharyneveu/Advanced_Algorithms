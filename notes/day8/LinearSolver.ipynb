{
 "cells": [
  {
   "cell_type": "markdown",
   "metadata": {},
   "source": [
    "# Linear Program Solver Attempt\n",
    "TODO: Model is broken. Essentially, problem to solve is that there are only a certain number of votes from each area. It is useless to spend more than needed to get all the votes."
   ]
  },
  {
   "cell_type": "code",
   "execution_count": 1,
   "metadata": {},
   "outputs": [],
   "source": [
    "using DataStructures"
   ]
  },
  {
   "cell_type": "code",
   "execution_count": 2,
   "metadata": {},
   "outputs": [
    {
     "data": {
      "text/plain": [
       "OrderedDict{String,Float64} with 3 entries:\n",
       "  \"urban\"    => 100000.0\n",
       "  \"suburban\" => 200000.0\n",
       "  \"rural\"    => 50000.0"
      ]
     },
     "execution_count": 2,
     "metadata": {},
     "output_type": "execute_result"
    }
   ],
   "source": [
    "areas = OrderedDict(\"urban\"=>100e3, \"suburban\"=>200e3, \"rural\"=>50e3)"
   ]
  },
  {
   "cell_type": "code",
   "execution_count": 3,
   "metadata": {},
   "outputs": [
    {
     "data": {
      "text/plain": [
       "4-element Array{String,1}:\n",
       " \"Build Roads\"   \n",
       " \"Gun Control\"   \n",
       " \"Farm Subsidies\"\n",
       " \"Gas Taxes\"     "
      ]
     },
     "execution_count": 3,
     "metadata": {},
     "output_type": "execute_result"
    }
   ],
   "source": [
    "issues = [\"Build Roads\", \"Gun Control\", \"Farm Subsidies\", \"Gas Taxes\"]"
   ]
  },
  {
   "cell_type": "code",
   "execution_count": 4,
   "metadata": {},
   "outputs": [
    {
     "data": {
      "text/plain": [
       "4×3 Array{Float64,2}:\n",
       "  0.2  5.0   3.0\n",
       "  8.0  2.0  -5.0\n",
       "  0.0  0.0  10.0\n",
       " 10.0  0.0  -2.0"
      ]
     },
     "execution_count": 4,
     "metadata": {},
     "output_type": "execute_result"
    }
   ],
   "source": [
    "weights = [0.2 5 3;\n",
    "           8 2 -5;\n",
    "           0 0 10;\n",
    "           10 0 -2]"
   ]
  },
  {
   "cell_type": "code",
   "execution_count": 5,
   "metadata": {},
   "outputs": [
    {
     "data": {
      "text/plain": [
       "linSolve (generic function with 1 method)"
      ]
     },
     "execution_count": 5,
     "metadata": {},
     "output_type": "execute_result"
    }
   ],
   "source": [
    "function linSolve(choices, multipliers, weights)\n",
    "    if typeof(multipliers) == OrderedDict{String,Float64}\n",
    "        mults = collect(values(multipliers))'\n",
    "    else\n",
    "        mults = multipliers'\n",
    "    end\n",
    "    vals = mults*weights'\n",
    "    choices[argmax(vals)]\n",
    "end"
   ]
  },
  {
   "cell_type": "code",
   "execution_count": 6,
   "metadata": {},
   "outputs": [
    {
     "data": {
      "text/plain": [
       "\"Build Roads\""
      ]
     },
     "execution_count": 6,
     "metadata": {},
     "output_type": "execute_result"
    }
   ],
   "source": [
    "linSolve(issues, areas, weights)"
   ]
  }
 ],
 "metadata": {
  "kernelspec": {
   "display_name": "Julia 1.0.3",
   "language": "julia",
   "name": "julia-1.0"
  },
  "language_info": {
   "file_extension": ".jl",
   "mimetype": "application/julia",
   "name": "julia",
   "version": "1.0.3"
  }
 },
 "nbformat": 4,
 "nbformat_minor": 2
}

{
 "cells": [
  {
   "cell_type": "markdown",
   "metadata": {},
   "source": [
    "# Knapsack Julia"
   ]
  },
  {
   "cell_type": "code",
   "execution_count": 141,
   "metadata": {},
   "outputs": [],
   "source": [
    "using JuMP, GLPK, Cbc, Test"
   ]
  },
  {
   "cell_type": "code",
   "execution_count": 142,
   "metadata": {},
   "outputs": [
    {
     "data": {
      "text/plain": [
       "MathOptInterface"
      ]
     },
     "execution_count": 142,
     "metadata": {},
     "output_type": "execute_result"
    }
   ],
   "source": [
    "const MOI = JuMP.MathOptInterface"
   ]
  },
  {
   "cell_type": "code",
   "execution_count": 143,
   "metadata": {},
   "outputs": [
    {
     "data": {
      "text/plain": [
       "example_cannery (generic function with 1 method)"
      ]
     },
     "execution_count": 143,
     "metadata": {},
     "output_type": "execute_result"
    }
   ],
   "source": [
    "function example_cannery(; verbose = true)\n",
    "    plants = [\"Seattle\", \"San-Diego\"]\n",
    "    markets = [\"New-York\", \"Chicago\", \"Topeka\"]\n",
    "\n",
    "    # Capacity and demand in cases.\n",
    "    capacity = [350, 600]\n",
    "    demand = [300, 300, 300]\n",
    "\n",
    "    # Distance in thousand miles.\n",
    "    distance = [2.5 1.7 1.8; 2.5 1.8 1.4]\n",
    "\n",
    "    # Cost per case per thousand miles.\n",
    "    freight = 90\n",
    "\n",
    "    num_plants = length(plants)\n",
    "    num_markets = length(markets)\n",
    "\n",
    "    cannery = Model(with_optimizer(Cbc.Optimizer))\n",
    "\n",
    "    @variable(cannery, ship[1:num_plants, 1:num_markets] >= 0)\n",
    "\n",
    "    # Ship no more than plant capacity\n",
    "    @constraint(cannery, capacity_con[i in 1:num_plants],\n",
    "        sum(ship[i,j] for j in 1:num_markets) <= capacity[i]\n",
    "    )\n",
    "\n",
    "    # Ship at least market demand\n",
    "    @constraint(cannery, demand_con[j in 1:num_markets],\n",
    "        sum(ship[i,j] for i in 1:num_plants) >= demand[j]\n",
    "    )\n",
    "\n",
    "    # Minimize transporatation cost\n",
    "    @objective(cannery, Min, sum(distance[i, j] * freight * ship[i, j]\n",
    "        for i in 1:num_plants, j in 1:num_markets)\n",
    "    )\n",
    "\n",
    "    JuMP.optimize!(cannery)\n",
    "\n",
    "    if verbose\n",
    "        println(\"RESULTS:\")\n",
    "        for i in 1:num_plants\n",
    "            for j in 1:num_markets\n",
    "                println(\"  $(plants[i]) $(markets[j]) = $(JuMP.value(ship[i, j]))\")\n",
    "            end\n",
    "        end\n",
    "    end\n",
    "\n",
    "    @test JuMP.termination_status(cannery) == MOI.OPTIMAL\n",
    "    @test JuMP.primal_status(cannery) == MOI.FEASIBLE_POINT\n",
    "    @test JuMP.objective_value(cannery) == 151200.0\n",
    "end"
   ]
  },
  {
   "cell_type": "code",
   "execution_count": 144,
   "metadata": {},
   "outputs": [
    {
     "name": "stdout",
     "output_type": "stream",
     "text": [
      "RESULTS:\n",
      "  Seattle New-York = 50.0\n",
      "  Seattle Chicago = 300.0\n",
      "  Seattle Topeka = 0.0\n",
      "  San-Diego New-York = 250.0\n",
      "  San-Diego Chicago = 0.0\n",
      "  San-Diego Topeka = 300.0\n",
      "Welcome to the CBC MILP Solver \n",
      "Version: 2.9.9 \n",
      "Build Date: Dec 31 2018 \n",
      "\n",
      "command line - Cbc_C_Interface -solve -quit (default strategy 1)\n",
      "Presolve 5 (0) rows, 6 (0) columns and 12 (0) elements\n",
      "0  Obj 0 Primal inf 900 (3)\n",
      "4  Obj 151200\n",
      "Optimal - objective value 151200\n",
      "Optimal objective 151200 - 4 iterations time 0.002\n",
      "Total time (CPU seconds):       0.00   (Wallclock seconds):       0.00\n",
      "\n"
     ]
    },
    {
     "data": {
      "text/plain": [
       "\u001b[32m\u001b[1mTest Passed\u001b[22m\u001b[39m"
      ]
     },
     "execution_count": 144,
     "metadata": {},
     "output_type": "execute_result"
    }
   ],
   "source": [
    "example_cannery(verbose=true)"
   ]
  },
  {
   "cell_type": "markdown",
   "metadata": {},
   "source": [
    "## Knapsack"
   ]
  },
  {
   "cell_type": "code",
   "execution_count": 3,
   "metadata": {},
   "outputs": [],
   "source": [
    "struct item\n",
    "    profit\n",
    "    weight\n",
    "end"
   ]
  },
  {
   "cell_type": "code",
   "execution_count": 86,
   "metadata": {},
   "outputs": [
    {
     "data": {
      "text/plain": [
       "knapsack (generic function with 3 methods)"
      ]
     },
     "execution_count": 86,
     "metadata": {},
     "output_type": "execute_result"
    }
   ],
   "source": [
    "function knapsack(items, capacity, opt=GLPK.Optimizer, verbose=false)\n",
    "    profit = [x.profit for x in items]\n",
    "    weight = [x.weight for x in items]\n",
    "    model = Model(with_optimizer(opt))\n",
    "    @variable(model, x[1:length(items)], Bin)\n",
    "    @objective(model, Max, profit' * x)\n",
    "    @constraint(model, weight' *x <= capacity)\n",
    "    JuMP.optimize!(model)\n",
    "    if verbose\n",
    "        println(\"Objective is: \", JuMP.objective_value(model))\n",
    "        println(\"Solution is:\")\n",
    "        for i in 1:length(items)\n",
    "            print(\"x[$i] = \", JuMP.value(x[i]))\n",
    "            println(\", p[$i]/w[$i] = \", profit[i] / weight[i])\n",
    "        end\n",
    "    end\n",
    "    return JuMP.objective_value(model)\n",
    "end"
   ]
  },
  {
   "cell_type": "code",
   "execution_count": 134,
   "metadata": {},
   "outputs": [],
   "source": [
    "using Profile\n",
    "using ProfileView"
   ]
  },
  {
   "cell_type": "code",
   "execution_count": 135,
   "metadata": {},
   "outputs": [],
   "source": [
    "num_items = 70000;\n",
    "items = [item(rand(1:20), rand(1:20)) for i in 1:num_items];\n",
    "cap = rand(1:20*num_items);"
   ]
  },
  {
   "cell_type": "code",
   "execution_count": 139,
   "metadata": {},
   "outputs": [
    {
     "name": "stdout",
     "output_type": "stream",
     "text": [
      "Welcome to the CBC MILP Solver \n",
      "Version: 2.9.9 \n",
      "Build Date: Dec 31 2018 \n",
      "\n",
      "command line - Cbc_C_Interface -solve -quit (default strategy 1)\n",
      "Continuous objective value is 547218 - 1.21 seconds\n",
      "Cgl0004I processed model has 1 rows, 163438 columns (163438 integer (133600 of which binary)) and 163438 elements\n",
      "Cutoff increment increased from 1e-05 to 0.9999\n",
      "Cbc0038I Initial state - 1 integers unsatisfied sum - 0.2\n",
      "Cbc0038I Solution found of -547218\n",
      "Cbc0038I Branch and bound needed to clear up 1 general integers\n",
      "Cbc0038I Full problem 1 rows 163438 columns, reduced to 1 rows 24649 columns\n",
      "Cbc0038I Cleaned solution of -547217\n",
      "Cbc0038I Before mini branch and bound, 163437 integers at bound fixed and 0 continuous\n",
      "Cbc0038I Mini branch and bound did not improve solution (46.77 seconds)\n",
      "Cbc0038I After 46.78 seconds - Feasibility pump exiting with objective of -547217 - took 1.82 seconds\n",
      "Cbc0012I Integer solution of -547217 found by feasibility pump after 0 iterations and 0 nodes (46.79 seconds)\n",
      "Cbc0038I Full problem 1 rows 163438 columns, reduced to 1 rows 3 columns\n",
      "Cbc0001I Search completed - best objective -547217, took 0 iterations and 0 nodes (46.95 seconds)\n",
      "Cbc0035I Maximum depth 0, 133266 variables fixed on reduced cost\n",
      "Cuts at root node changed objective from -547218 to -547218\n",
      "Probing was tried 0 times and created 0 cuts of which 0 were active after adding rounds of cuts (0.000 seconds)\n",
      "Gomory was tried 0 times and created 0 cuts of which 0 were active after adding rounds of cuts (0.000 seconds)\n",
      "Knapsack was tried 0 times and created 0 cuts of which 0 were active after adding rounds of cuts (0.000 seconds)\n",
      "Clique was tried 0 times and created 0 cuts of which 0 were active after adding rounds of cuts (0.000 seconds)\n",
      "MixedIntegerRounding2 was tried 0 times and created 0 cuts of which 0 were active after adding rounds of cuts (0.000 seconds)\n",
      "FlowCover was tried 0 times and created 0 cuts of which 0 were active after adding rounds of cuts (0.000 seconds)\n",
      "TwoMirCuts was tried 0 times and created 0 cuts of which 0 were active after adding rounds of cuts (0.000 seconds)\n",
      "\n",
      "Result - Optimal solution found\n",
      "\n",
      "Objective value:                547217.00000000\n",
      "Enumerated nodes:               0\n",
      "Total iterations:               0\n",
      "Time (CPU seconds):             47.09\n",
      "Time (Wallclock seconds):       47.11\n",
      "\n",
      "Total time (CPU seconds):       47.09   (Wallclock seconds):       47.11\n",
      "\n"
     ]
    },
    {
     "data": {
      "text/plain": [
       "547217.0"
      ]
     },
     "execution_count": 139,
     "metadata": {},
     "output_type": "execute_result"
    }
   ],
   "source": [
    "knapsack(items, cap, Cbc.Optimizer)"
   ]
  }
 ],
 "metadata": {
  "kernelspec": {
   "display_name": "Julia 1.0.3",
   "language": "julia",
   "name": "julia-1.0"
  },
  "language_info": {
   "file_extension": ".jl",
   "mimetype": "application/julia",
   "name": "julia",
   "version": "1.0.3"
  }
 },
 "nbformat": 4,
 "nbformat_minor": 2
}

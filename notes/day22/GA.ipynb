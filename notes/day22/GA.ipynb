{
 "cells": [
  {
   "cell_type": "code",
   "execution_count": 6,
   "metadata": {},
   "outputs": [
    {
     "data": {
      "text/plain": [
       "5-element Array{Array{Char,1},1}:\n",
       " ['0', '0', '1', '1', '0']\n",
       " ['0', '1', '1', '1', '0']\n",
       " ['1', '0', '1', '0', '0']\n",
       " ['0', '0', '1', '1', '1']\n",
       " ['0', '1', '0', '0', '1']"
      ]
     },
     "execution_count": 6,
     "metadata": {},
     "output_type": "execute_result"
    }
   ],
   "source": [
    "bitstr_len = 5;\n",
    "num_init = 5;\n",
    "init_pop = [rand(('0', '1'), bitstr_len) for i=1:num_init]"
   ]
  },
  {
   "cell_type": "code",
   "execution_count": 41,
   "metadata": {},
   "outputs": [
    {
     "data": {
      "text/plain": [
       "getFitness (generic function with 1 method)"
      ]
     },
     "execution_count": 41,
     "metadata": {},
     "output_type": "execute_result"
    }
   ],
   "source": [
    "function getFitness(x)\n",
    "    root = \"\"\n",
    "    for val in x\n",
    "        root *= string(val)\n",
    "    end\n",
    "    return parse(Int,root,base=2)\n",
    "end"
   ]
  },
  {
   "cell_type": "code",
   "execution_count": 44,
   "metadata": {},
   "outputs": [
    {
     "data": {
      "text/plain": [
       "6"
      ]
     },
     "execution_count": 44,
     "metadata": {},
     "output_type": "execute_result"
    }
   ],
   "source": [
    "getFitness(init_pop[1])"
   ]
  },
  {
   "cell_type": "code",
   "execution_count": 45,
   "metadata": {},
   "outputs": [
    {
     "data": {
      "text/plain": [
       "5-element Array{Int64,1}:\n",
       "  6\n",
       " 14\n",
       " 20\n",
       "  7\n",
       "  9"
      ]
     },
     "execution_count": 45,
     "metadata": {},
     "output_type": "execute_result"
    }
   ],
   "source": [
    "first_gen_fit = [getFitness(x) for x in init_pop]"
   ]
  },
  {
   "cell_type": "code",
   "execution_count": 48,
   "metadata": {},
   "outputs": [],
   "source": [
    "using Statistics"
   ]
  },
  {
   "cell_type": "code",
   "execution_count": 49,
   "metadata": {},
   "outputs": [
    {
     "data": {
      "text/plain": [
       "11.2"
      ]
     },
     "execution_count": 49,
     "metadata": {},
     "output_type": "execute_result"
    }
   ],
   "source": [
    "mean(first_gen_fit)"
   ]
  },
  {
   "cell_type": "code",
   "execution_count": 57,
   "metadata": {},
   "outputs": [
    {
     "data": {
      "text/plain": [
       "select (generic function with 1 method)"
      ]
     },
     "execution_count": 57,
     "metadata": {},
     "output_type": "execute_result"
    }
   ],
   "source": [
    "function select(pop, num)\n",
    "    fits = [getFitness(x) for x in pop]\n",
    "    return sample(pop, Weights(fits), num, replace=false)\n",
    "end "
   ]
  },
  {
   "cell_type": "code",
   "execution_count": 58,
   "metadata": {},
   "outputs": [
    {
     "data": {
      "text/plain": [
       "3-element Array{Array{Char,1},1}:\n",
       " ['0', '1', '0', '0', '1']\n",
       " ['0', '0', '1', '1', '0']\n",
       " ['0', '0', '1', '1', '1']"
      ]
     },
     "execution_count": 58,
     "metadata": {},
     "output_type": "execute_result"
    }
   ],
   "source": [
    "select(init_pop, 3)"
   ]
  },
  {
   "cell_type": "code",
   "execution_count": 50,
   "metadata": {},
   "outputs": [
    {
     "name": "stdout",
     "output_type": "stream",
     "text": [
      "search: \u001b[0m\u001b[1mr\u001b[22m\u001b[0m\u001b[1ma\u001b[22m\u001b[0m\u001b[1mn\u001b[22m\u001b[0m\u001b[1md\u001b[22m \u001b[0m\u001b[1mr\u001b[22m\u001b[0m\u001b[1ma\u001b[22m\u001b[0m\u001b[1mn\u001b[22m\u001b[0m\u001b[1md\u001b[22mn t\u001b[0m\u001b[1mr\u001b[22m\u001b[0m\u001b[1ma\u001b[22m\u001b[0m\u001b[1mn\u001b[22msco\u001b[0m\u001b[1md\u001b[22me mac\u001b[0m\u001b[1mr\u001b[22moexp\u001b[0m\u001b[1ma\u001b[22m\u001b[0m\u001b[1mn\u001b[22m\u001b[0m\u001b[1md\u001b[22m @mac\u001b[0m\u001b[1mr\u001b[22moexp\u001b[0m\u001b[1ma\u001b[22m\u001b[0m\u001b[1mn\u001b[22m\u001b[0m\u001b[1md\u001b[22m @mac\u001b[0m\u001b[1mr\u001b[22moexp\u001b[0m\u001b[1ma\u001b[22m\u001b[0m\u001b[1mn\u001b[22m\u001b[0m\u001b[1md\u001b[22m1\n",
      "\n"
     ]
    },
    {
     "data": {
      "text/latex": [
       "\\begin{verbatim}\n",
       "rand([rng=GLOBAL_RNG], [S], [dims...])\n",
       "\\end{verbatim}\n",
       "Pick a random element or array of random elements from the set of values specified by \\texttt{S}; \\texttt{S} can be\n",
       "\n",
       "\\begin{itemize}\n",
       "\\item an indexable collection (for example \\texttt{1:9} or \\texttt{('x', \"y\", :z)}),\n",
       "\n",
       "\n",
       "\\item an \\texttt{AbstractDict} or \\texttt{AbstractSet} object,\n",
       "\n",
       "\n",
       "\\item a string (considered as a collection of characters), or\n",
       "\n",
       "\n",
       "\\item a type: the set of values to pick from is then equivalent to \\texttt{typemin(S):typemax(S)} for integers (this is not applicable to \\href{@ref}{\\texttt{BigInt}}), and to $[0, 1)$ for floating point numbers;\n",
       "\n",
       "\\end{itemize}\n",
       "\\texttt{S} defaults to \\href{@ref}{\\texttt{Float64}}.\n",
       "\n",
       "\\begin{quote}\n",
       "\\textbf{compat}\n",
       "\n",
       "Julia 1.1\n",
       "\n",
       "Support for \\texttt{S} as a tuple requires at least Julia 1.1.\n",
       "\n",
       "\\end{quote}\n",
       "\\section{Examples}\n",
       "\\begin{verbatim}\n",
       "julia> rand(Int, 2)\n",
       "2-element Array{Int64,1}:\n",
       " 1339893410598768192\n",
       " 1575814717733606317\n",
       "\n",
       "julia> rand(MersenneTwister(0), Dict(1=>2, 3=>4))\n",
       "1=>2\n",
       "\\end{verbatim}\n",
       "\\begin{quote}\n",
       "\\textbf{note}\n",
       "\n",
       "Note\n",
       "\n",
       "The complexity of \\texttt{rand(rng, s::Union\\{AbstractDict,AbstractSet\\})} is linear in the length of \\texttt{s}, unless an optimized method with constant complexity is available, which is the case for \\texttt{Dict}, \\texttt{Set} and \\texttt{BitSet}. For more than a few calls, use \\texttt{rand(rng, collect(s))} instead, or either \\texttt{rand(rng, Dict(s))} or \\texttt{rand(rng, Set(s))} as appropriate.\n",
       "\n",
       "\\end{quote}\n"
      ],
      "text/markdown": [
       "```\n",
       "rand([rng=GLOBAL_RNG], [S], [dims...])\n",
       "```\n",
       "\n",
       "Pick a random element or array of random elements from the set of values specified by `S`; `S` can be\n",
       "\n",
       "  * an indexable collection (for example `1:9` or `('x', \"y\", :z)`),\n",
       "  * an `AbstractDict` or `AbstractSet` object,\n",
       "  * a string (considered as a collection of characters), or\n",
       "  * a type: the set of values to pick from is then equivalent to `typemin(S):typemax(S)` for integers (this is not applicable to [`BigInt`](@ref)), and to $[0, 1)$ for floating point numbers;\n",
       "\n",
       "`S` defaults to [`Float64`](@ref).\n",
       "\n",
       "!!! compat \"Julia 1.1\"\n",
       "    Support for `S` as a tuple requires at least Julia 1.1.\n",
       "\n",
       "\n",
       "# Examples\n",
       "\n",
       "```julia-repl\n",
       "julia> rand(Int, 2)\n",
       "2-element Array{Int64,1}:\n",
       " 1339893410598768192\n",
       " 1575814717733606317\n",
       "\n",
       "julia> rand(MersenneTwister(0), Dict(1=>2, 3=>4))\n",
       "1=>2\n",
       "```\n",
       "\n",
       "!!! note\n",
       "    The complexity of `rand(rng, s::Union{AbstractDict,AbstractSet})` is linear in the length of `s`, unless an optimized method with constant complexity is available, which is the case for `Dict`, `Set` and `BitSet`. For more than a few calls, use `rand(rng, collect(s))` instead, or either `rand(rng, Dict(s))` or `rand(rng, Set(s))` as appropriate.\n",
       "\n"
      ],
      "text/plain": [
       "\u001b[36m  rand([rng=GLOBAL_RNG], [S], [dims...])\u001b[39m\n",
       "\n",
       "  Pick a random element or array of random elements from the set of values\n",
       "  specified by \u001b[36mS\u001b[39m; \u001b[36mS\u001b[39m can be\n",
       "\n",
       "    •    an indexable collection (for example \u001b[36m1:9\u001b[39m or \u001b[36m('x', \"y\", :z)\u001b[39m),\n",
       "\n",
       "    •    an \u001b[36mAbstractDict\u001b[39m or \u001b[36mAbstractSet\u001b[39m object,\n",
       "\n",
       "    •    a string (considered as a collection of characters), or\n",
       "\n",
       "    •    a type: the set of values to pick from is then equivalent to\n",
       "        \u001b[36mtypemin(S):typemax(S)\u001b[39m for integers (this is not applicable to\n",
       "        \u001b[36mBigInt\u001b[39m), and to \u001b[35m[0, 1)\u001b[39m for floating point numbers;\n",
       "\n",
       "  \u001b[36mS\u001b[39m defaults to \u001b[36mFloat64\u001b[39m.\n",
       "\n",
       "\u001b[39m\u001b[1m  │ \u001b[22m\u001b[39m\u001b[1mJulia 1.1\u001b[22m\n",
       "\u001b[39m\u001b[1m  │\u001b[22m\n",
       "\u001b[39m\u001b[1m  │\u001b[22m  Support for \u001b[36mS\u001b[39m as a tuple requires at least Julia 1.1.\n",
       "\n",
       "\u001b[1m  Examples\u001b[22m\n",
       "\u001b[1m  ≡≡≡≡≡≡≡≡≡≡\u001b[22m\n",
       "\n",
       "\u001b[36m  julia> rand(Int, 2)\u001b[39m\n",
       "\u001b[36m  2-element Array{Int64,1}:\u001b[39m\n",
       "\u001b[36m   1339893410598768192\u001b[39m\n",
       "\u001b[36m   1575814717733606317\u001b[39m\n",
       "\u001b[36m  \u001b[39m\n",
       "\u001b[36m  julia> rand(MersenneTwister(0), Dict(1=>2, 3=>4))\u001b[39m\n",
       "\u001b[36m  1=>2\u001b[39m\n",
       "\n",
       "\u001b[36m\u001b[1m  │ \u001b[22m\u001b[39m\u001b[36m\u001b[1mNote\u001b[22m\u001b[39m\n",
       "\u001b[36m\u001b[1m  │\u001b[22m\u001b[39m\n",
       "\u001b[36m\u001b[1m  │\u001b[22m\u001b[39m  The complexity of \u001b[36mrand(rng, s::Union{AbstractDict,AbstractSet})\u001b[39m is\n",
       "\u001b[36m\u001b[1m  │\u001b[22m\u001b[39m  linear in the length of \u001b[36ms\u001b[39m, unless an optimized method with\n",
       "\u001b[36m\u001b[1m  │\u001b[22m\u001b[39m  constant complexity is available, which is the case for \u001b[36mDict\u001b[39m, \u001b[36mSet\u001b[39m\n",
       "\u001b[36m\u001b[1m  │\u001b[22m\u001b[39m  and \u001b[36mBitSet\u001b[39m. For more than a few calls, use \u001b[36mrand(rng, collect(s))\u001b[39m\n",
       "\u001b[36m\u001b[1m  │\u001b[22m\u001b[39m  instead, or either \u001b[36mrand(rng, Dict(s))\u001b[39m or \u001b[36mrand(rng, Set(s))\u001b[39m as\n",
       "\u001b[36m\u001b[1m  │\u001b[22m\u001b[39m  appropriate."
      ]
     },
     "execution_count": 50,
     "metadata": {},
     "output_type": "execute_result"
    }
   ],
   "source": [
    "function mutate(x, pct)\n",
    "    idxs = [sample]"
   ]
  },
  {
   "cell_type": "code",
   "execution_count": 54,
   "metadata": {},
   "outputs": [
    {
     "name": "stderr",
     "output_type": "stream",
     "text": [
      "┌ Info: Precompiling StatsBase [2913bbd2-ae8a-5f71-8c99-4fb6c76f3a91]\n",
      "└ @ Base loading.jl:1186\n"
     ]
    }
   ],
   "source": [
    "using StatsBase"
   ]
  },
  {
   "cell_type": "code",
   "execution_count": null,
   "metadata": {},
   "outputs": [],
   "source": []
  }
 ],
 "metadata": {
  "kernelspec": {
   "display_name": "Julia 1.0.3",
   "language": "julia",
   "name": "julia-1.0"
  },
  "language_info": {
   "file_extension": ".jl",
   "mimetype": "application/julia",
   "name": "julia",
   "version": "1.1.1"
  }
 },
 "nbformat": 4,
 "nbformat_minor": 2
}

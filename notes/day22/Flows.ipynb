{
 "cells": [
  {
   "cell_type": "code",
   "execution_count": 1,
   "metadata": {},
   "outputs": [
    {
     "name": "stderr",
     "output_type": "stream",
     "text": [
      "┌ Info: Precompiling LightGraphs [093fc24a-ae57-5d10-9952-331d41423f4d]\n",
      "└ @ Base loading.jl:1186\n",
      "┌ Info: Precompiling LightGraphsFlows [2f5eb75a-258c-59e0-affc-f41c55f75335]\n",
      "└ @ Base loading.jl:1186\n"
     ]
    }
   ],
   "source": [
    "using LightGraphs\n",
    "using LightGraphsFlows"
   ]
  },
  {
   "cell_type": "code",
   "execution_count": 13,
   "metadata": {},
   "outputs": [
    {
     "data": {
      "text/plain": [
       "{6, 0} directed simple Int64 graph"
      ]
     },
     "execution_count": 13,
     "metadata": {},
     "output_type": "execute_result"
    }
   ],
   "source": [
    "fg = DiGraph(6)"
   ]
  },
  {
   "cell_type": "code",
   "execution_count": 14,
   "metadata": {},
   "outputs": [
    {
     "data": {
      "text/plain": [
       "10-element Array{Tuple{Int64,Int64,Int64},1}:\n",
       " (6, 1, 16)\n",
       " (1, 3, 12)\n",
       " (3, 5, 20)\n",
       " (4, 5, 4) \n",
       " (2, 4, 14)\n",
       " (6, 2, 13)\n",
       " (1, 2, 18)\n",
       " (2, 1, 4) \n",
       " (3, 2, 9) \n",
       " (4, 3, 7) "
      ]
     },
     "execution_count": 14,
     "metadata": {},
     "output_type": "execute_result"
    }
   ],
   "source": [
    "E = [(6,1,16), (1,3,12), (3,5,20), (4,5,4), (2,4,14), (6,2,13), (1,2,18), (2,1,4), (3,2,9),\n",
    "    (4,3,7)]"
   ]
  },
  {
   "cell_type": "code",
   "execution_count": 15,
   "metadata": {},
   "outputs": [
    {
     "data": {
      "text/plain": [
       "6×6 Array{Int64,2}:\n",
       " 0  0  0  0  0  0\n",
       " 0  0  0  0  0  0\n",
       " 0  0  0  0  0  0\n",
       " 0  0  0  0  0  0\n",
       " 0  0  0  0  0  0\n",
       " 0  0  0  0  0  0"
      ]
     },
     "execution_count": 15,
     "metadata": {},
     "output_type": "execute_result"
    }
   ],
   "source": [
    "capacity_matrix = zeros(Int, 6, 6)"
   ]
  },
  {
   "cell_type": "code",
   "execution_count": 16,
   "metadata": {},
   "outputs": [],
   "source": [
    "for e in E\n",
    "    u, v, f = e\n",
    "    add_edge!(fg, u, v)\n",
    "    capacity_matrix[u,v] = f\n",
    "end"
   ]
  },
  {
   "cell_type": "code",
   "execution_count": 17,
   "metadata": {},
   "outputs": [
    {
     "data": {
      "text/plain": [
       "(2, [0 0 … 0 -1; 0 0 … 0 -1; … ; 0 0 … 0 0; 1 1 … 0 0])"
      ]
     },
     "execution_count": 17,
     "metadata": {},
     "output_type": "execute_result"
    }
   ],
   "source": [
    "f, F = maximum_flow(fg, 6, 5)"
   ]
  },
  {
   "cell_type": "code",
   "execution_count": 18,
   "metadata": {},
   "outputs": [
    {
     "data": {
      "text/plain": [
       "2"
      ]
     },
     "execution_count": 18,
     "metadata": {},
     "output_type": "execute_result"
    }
   ],
   "source": [
    "f"
   ]
  },
  {
   "cell_type": "code",
   "execution_count": 19,
   "metadata": {},
   "outputs": [
    {
     "data": {
      "text/plain": [
       "6×6 Array{Int64,2}:\n",
       "  0   0   1   0  0  -1\n",
       "  0   0   0   1  0  -1\n",
       " -1   0   0   0  1   0\n",
       "  0  -1   0   0  1   0\n",
       "  0   0  -1  -1  0   0\n",
       "  1   1   0   0  0   0"
      ]
     },
     "execution_count": 19,
     "metadata": {},
     "output_type": "execute_result"
    }
   ],
   "source": [
    "F"
   ]
  },
  {
   "cell_type": "code",
   "execution_count": null,
   "metadata": {},
   "outputs": [],
   "source": []
  }
 ],
 "metadata": {
  "kernelspec": {
   "display_name": "Julia 1.0.3",
   "language": "julia",
   "name": "julia-1.0"
  },
  "language_info": {
   "file_extension": ".jl",
   "mimetype": "application/julia",
   "name": "julia",
   "version": "1.1.1"
  }
 },
 "nbformat": 4,
 "nbformat_minor": 2
}
